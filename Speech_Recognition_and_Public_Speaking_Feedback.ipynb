{
 "cells": [
  {
   "cell_type": "code",
   "execution_count": 1,
   "metadata": {},
   "outputs": [
    {
     "name": "stderr",
     "output_type": "stream",
     "text": [
      "[nltk_data] Downloading package punkt to\n",
      "[nltk_data]     C:\\Users\\waghm\\AppData\\Roaming\\nltk_data...\n",
      "[nltk_data]   Package punkt is already up-to-date!\n"
     ]
    },
    {
     "data": {
      "text/plain": [
       "True"
      ]
     },
     "execution_count": 1,
     "metadata": {},
     "output_type": "execute_result"
    }
   ],
   "source": [
    "import speech_recognition as sr\n",
    "from transformers import pipeline"
   ]
  },
  {
   "cell_type": "code",
   "execution_count": 15,
   "metadata": {},
   "outputs": [],
   "source": [
    "import speech_recognition as sr\n",
    "from transformers import pipeline\n",
    "def record_audio():\n",
    "    \"\"\"Record audio from the microphone and return the transcribed text.\"\"\"\n",
    "    # Create a recognizer instance\n",
    "    r = sr.Recognizer()\n",
    "    \n",
    "    # Use the default microphone as the audio source\n",
    "    with sr.Microphone() as source:\n",
    "        print(\"Say something!\")\n",
    "        # Listen for audio input\n",
    "        audio = r.listen(source)\n",
    "\n",
    "    try:\n",
    "        # Recognize speech using Google Speech Recognition\n",
    "        text = r.recognize_google(audio)\n",
    "        print(text)\n",
    "        return text\n",
    "    except sr.UnknownValueError:\n",
    "        # Speech is unintelligible\n",
    "        print(\"Could not understand audio\")\n",
    "        return None\n",
    "    except sr.RequestError as e:\n",
    "        # Couldn't request results due to network issue or service error\n",
    "        print(\"Could not request results from Google Speech Recognition service; {0}\".format(e))\n",
    "        return None\n",
    "\n",
    "\n",
    "# Load the pipeline for text generation using GPT-2 model\n",
    "text_generation_pipeline = pipeline(\"text-generation\", model=\"gpt2\")\n",
    "\n",
    "# Load the pipeline for sentiment analysis using BERT model\n",
    "sentiment_analysis_pipeline = pipeline(\"sentiment-analysis\")\n",
    "\n",
    "def provide_feedback(text):\n",
    "    \"\"\"Analyzes the text and provides feedback on grammar, sentiment, and style.\"\"\"\n",
    "    # Perform grammar correction using your existing method (e.g., SpaCy)\n",
    "    corrected_text = analyze_grammar(text)\n",
    "    \n",
    "    # Perform sentiment analysis using BERT model\n",
    "    sentiment = sentiment_analysis_pipeline(text)[0]['label']\n",
    "    \n",
    "    # Generate suggestions for improving the text using GPT-2 model\n",
    "    generated_text = text_generation_pipeline(corrected_text, max_length=100, num_return_sequences=1)[0]['generated_text']\n",
    "    \n",
    "    feedback = \"**Feedback:**\\n\"\n",
    "    feedback += \"- Corrected Text: {}\\n\".format(corrected_text)\n",
    "    feedback += \"- Sentiment: {}\\n\".format(sentiment)\n",
    "    feedback += \"- Style Suggestions: {}\\n\".format(generated_text)\n",
    "    \n",
    "    return feedback\n",
    "\n",
    "text = record_audio()\n",
    "provide_feedback(text)\n",
    "\n"
   ]
  },
  {
   "cell_type": "code",
   "execution_count": 17,
   "metadata": {},
   "outputs": [
    {
     "name": "stdout",
     "output_type": "stream",
     "text": [
      "Say something!\n",
      "the dogs run quickly to the park chasing its tail and barking loudly there was many people there enjoying their picnic when suddenly it started to rain the child's laughed and played in the wet grass while the parents hurry to pack their things this paragraph\n"
     ]
    },
    {
     "name": "stderr",
     "output_type": "stream",
     "text": [
      "Setting `pad_token_id` to `eos_token_id`:50256 for open-end generation.\n"
     ]
    },
    {
     "data": {
      "text/plain": [
       "\"**Feedback:**\\n- Corrected Text: the dogs run quickly to the park chasing its tail and barking loudly there was many people there enjoying their picnic when suddenly it started to rain the child 's laughed and played in the wet grass while the parents hurry to pack their things this paragraph\\n- Sentiment: POSITIVE\\n- Style Suggestions: the dogs run quickly to the park chasing its tail and barking loudly there was many people there enjoying their picnic when suddenly it started to rain the child 's laughed and played in the wet grass while the parents hurry to pack their things this paragraph was clearly meant as a comment about the fact the parents would have been happy to walk their dog and run up to the dog's owner to pick them up later. They could do no wrong because the boy is a dog.\\n\\nThere was a large group\\n\""
      ]
     },
     "execution_count": 17,
     "metadata": {},
     "output_type": "execute_result"
    }
   ],
   "source": [
    "text = record_audio()\n",
    "provide_feedback(text)"
   ]
  },
  {
   "cell_type": "code",
   "execution_count": 7,
   "metadata": {},
   "outputs": [
    {
     "name": "stdout",
     "output_type": "stream",
     "text": [
      "Say something!\n",
      "Google Speech Recognition thinks you said hello hello hello hello hello hello hello hello hello hello hello hello can you hear me hello\n"
     ]
    }
   ],
   "source": [
    "#!/usr/bin/env python3\n",
    "\n",
    "# NOTE: this example requires PyAudio because it uses the Microphone class\n",
    "\n",
    "import speech_recognition as sr\n",
    "\n",
    "# obtain audio from the microphone\n",
    "r = sr.Recognizer()\n",
    "with sr.Microphone() as source:\n",
    "    print(\"Say something!\")\n",
    "    audio = r.listen(source)\n",
    "\n",
    "# # recognize speech using Sphinx\n",
    "# try:\n",
    "#     print(\"Sphinx thinks you said \" + r.recognize_sphinx(audio))\n",
    "# except sr.UnknownValueError:\n",
    "#     print(\"Sphinx could not understand audio\")\n",
    "# except sr.RequestError as e:\n",
    "#     print(\"Sphinx error; {0}\".format(e))\n",
    "\n",
    "# recognize speech using Google Speech Recognition\n",
    "try:\n",
    "    # for testing purposes, we're just using the default API key\n",
    "    # to use another API key, use `r.recognize_google(audio, key=\"GOOGLE_SPEECH_RECOGNITION_API_KEY\")`\n",
    "    # instead of `r.recognize_google(audio)`\n",
    "    print(\"Google Speech Recognition thinks you said \" + r.recognize_google(audio))\n",
    "except sr.UnknownValueError:\n",
    "    print(\"Google Speech Recognition could not understand audio\")\n",
    "except sr.RequestError as e:\n",
    "    print(\"Could not request results from Google Speech Recognition service; {0}\".format(e))\n"
   ]
  },
  {
   "cell_type": "code",
   "execution_count": null,
   "metadata": {},
   "outputs": [],
   "source": []
  }
 ],
 "metadata": {
  "kernelspec": {
   "display_name": "base",
   "language": "python",
   "name": "python3"
  },
  "language_info": {
   "codemirror_mode": {
    "name": "ipython",
    "version": 3
   },
   "file_extension": ".py",
   "mimetype": "text/x-python",
   "name": "python",
   "nbconvert_exporter": "python",
   "pygments_lexer": "ipython3",
   "version": "3.11.5"
  }
 },
 "nbformat": 4,
 "nbformat_minor": 2
}
